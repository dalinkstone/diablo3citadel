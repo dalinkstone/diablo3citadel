{
 "cells": [
  {
   "cell_type": "code",
   "execution_count": 1,
   "metadata": {},
   "outputs": [
    {
     "name": "stdout",
     "output_type": "stream",
     "text": [
      "Started the main_flow\n"
     ]
    }
   ],
   "source": [
    "from diablo3flow import main_flow\n",
    "\n",
    "values_list = main_flow()"
   ]
  },
  {
   "cell_type": "code",
   "execution_count": 20,
   "metadata": {},
   "outputs": [
    {
     "name": "stdout",
     "output_type": "stream",
     "text": [
      "['HyperionSpear', 'Hyperion Spear', 'item-type/hyperionspear', 'Gloves_WitchDoctor', 'Gloves', 'item-type/gloveswitchdoctor', 'Helm_Crusader', 'Helm', 'item-type/helmcrusader', 'Boots_Barbarian', 'Boots', 'item-type/bootsbarbarian', 'FistWeapon', 'Fist Weapon', 'item-type/fistweapon', 'Boots_Necromancer', 'Boots', 'item-type/bootsnecromancer', 'CraftingReagent', 'Crafting Material', 'item-type/craftingreagent', 'Bracers', 'Bracers', 'item-type/bracers', 'Legs_Wizard', 'Pants', 'item-type/legswizard', 'Boots_Crusader', 'Boots', 'item-type/bootscrusader', 'DemonicKey', 'Key', 'item-type/demonickey', 'HealthPotion', 'Potion', 'item-type/healthpotion', 'AncientBlade', 'Ancient Blade', 'item-type/ancientblade', 'CraftingPlanLegendary_Smith', 'Blacksmith Plan', 'item-type/craftingplanlegendarysmith', 'CombatStaff', 'Daibo', 'item-type/combatstaff', 'Ballista', 'Ballista', 'item-type/ballista', 'Helm_Barbarian', 'Helm', 'item-type/helmbarbarian', 'CraftingPlan_Smith', 'Blacksmith Plan', 'item-type/craftingplansmith', 'ColossusBlade', 'Colossus Blade', 'item-type/colossusblade', 'WizardHat', 'Wizard Hat', 'item-type/wizardhat', 'MightyWeapon1H', 'Mighty Weapon', 'item-type/mightyweapon1h', 'MightyWeapon2H', 'Two-Handed Mighty Weapon', 'item-type/mightyweapon2h', 'GeneralUtility', 'Consumable', 'item-type/generalutility', 'Flail1H', 'Flail', 'item-type/flail1h', 'Flail2H', 'Two-Handed Flail', 'item-type/flail2h', 'PrimeSoulShard', 'Soul Shard', 'item-type/primesoulshard', 'Crossbow', 'Crossbow', 'item-type/crossbow', 'Sword2H', 'Two-Handed Sword', 'item-type/sword2h', 'ChestArmor_Barbarian', 'Chest Armor', 'item-type/chestarmorbarbarian', 'Polearm', 'Polearm', 'item-type/polearm', 'Legs_Barbarian', 'Pants', 'item-type/legsbarbarian', 'ChestArmor_DemonHunter', 'Chest Armor', 'item-type/chestarmordemonhunter', 'Shoulders_Necromancer', 'Shoulders', 'item-type/shouldersnecromancer', 'ChestArmor_Crusader', 'Chest Armor', 'item-type/chestarmorcrusader', 'PortalDevice', 'Portal Device', 'item-type/portaldevice', 'Boots_DemonHunter', 'Boots', 'item-type/bootsdemonhunter', 'ChestArmor', 'Chest Armor', 'item-type/chestarmor', 'ArchonStaff', 'Archon Staff', 'item-type/archonstaff', 'ScoundrelSpecial', 'Scoundrel Token', 'item-type/scoundrelspecial', 'GenericBelt', 'Belt', 'item-type/genericbelt', 'GenericHelm', 'Helm', 'item-type/generichelm', 'Legs_Necromancer', 'Pants', 'item-type/legsnecromancer', 'Shoulders', 'Shoulders', 'item-type/shoulders', 'ChestArmor_Wizard', 'Chest Armor', 'item-type/chestarmorwizard', 'Shoulders_Wizard', 'Shoulders', 'item-type/shoulderswizard', 'Shoulders_Monk', 'Shoulders', 'item-type/shouldersmonk', 'BattleCestus', 'Battle Cestus', 'item-type/battlecestus', 'Helm_Necromancer', 'Helm', 'item-type/helmnecromancer', 'Belt_Barbarian', 'Mighty Belt', 'item-type/beltbarbarian', 'EnchantressSpecial', 'Enchantress Focus', 'item-type/enchantressspecial', 'Boots_Wizard', 'Boots', 'item-type/bootswizard', 'Amulet', 'Amulet', 'item-type/amulet', 'VoodooMask', 'Voodoo Mask', 'item-type/voodoomask', 'Cinquedeas', 'Cinquedeas', 'item-type/cinquedeas', 'Dagger', 'Dagger', 'item-type/dagger', 'MysteryWeapon1H', 'Weapon', 'item-type/mysteryweapon1h', 'MysteryWeapon2H', 'Weapon', 'item-type/mysteryweapon2h', 'CeremonialDagger', 'Ceremonial Knife', 'item-type/ceremonialdagger', 'LegendSpike', 'Legend Spike', 'item-type/legendspike', 'ChestArmor_WitchDoctor', 'Chest Armor', 'item-type/chestarmorwitchdoctor', 'Gloves', 'Gloves', 'item-type/gloves', 'Shoulders_DemonHunter', 'Shoulders', 'item-type/shouldersdemonhunter', 'Boots_WitchDoctor', 'Boots', 'item-type/bootswitchdoctor', 'TrainingTome', 'Tome of Training', 'item-type/trainingtome', 'Axe', 'Axe', 'item-type/axe', 'Bow', 'Bow', 'item-type/bow', 'Dye', 'Dye', 'item-type/dye', 'Gem', 'Gem', 'item-type/gem', 'Orb', 'Source', 'item-type/orb', 'Gold', 'Gold', 'item-type/gold', 'Helm', 'Helm', 'item-type/helm', 'Legs', 'Pants', 'item-type/legs', 'Mace', 'Mace', 'item-type/mace', 'Mojo', 'Mojo', 'item-type/mojo', 'Ring', 'Ring', 'item-type/ring', 'Wand', 'Wand', 'item-type/wand', 'Legs_DemonHunter', 'Pants', 'item-type/legsdemonhunter', 'Shoulders_Crusader', 'Shoulders', 'item-type/shoulderscrusader', 'Mace2H', 'Two-Handed Mace', 'item-type/mace2h', 'Axe2H', 'Two-Handed Axe', 'item-type/axe2h', 'Boots', 'Boots', 'item-type/boots', 'Cloak', 'Cloak', 'item-type/cloak', 'Helm_Monk', 'Helm', 'item-type/helmmonk', 'Flail', 'Flail', 'item-type/flail', 'TemplarSpecial', 'Templar Relic', 'item-type/templarspecial', 'Quest', 'Quest', 'item-type/quest', 'Shard', 'Shard', 'item-type/shard', 'Spear', 'Spear', 'item-type/spear', 'Staff', 'Staff', 'item-type/staff', 'Sword', 'Sword', 'item-type/sword', 'Scythe1H', 'Scythe', 'item-type/scythe1h', 'Scythe2H', 'Two-Handed Scythe', 'item-type/scythe2h', 'Gloves_Wizard', 'Gloves', 'item-type/gloveswizard', 'Gloves_Necromancer', 'Gloves', 'item-type/glovesnecromancer', 'BoneKnife', 'Bone Knife', 'item-type/boneknife', 'Quiver', 'Quiver', 'item-type/quiver', 'Gloves_Crusader', 'Gloves', 'item-type/glovescrusader', 'NecromancerOffhand', 'Phylactery', 'item-type/necromanceroffhand', 'Scroll', 'Scroll', 'item-type/scroll', 'Scythe', 'Scythe', 'item-type/scythe', 'Shield', 'Shield', 'item-type/shield', 'CraftingPlan_Jeweler', 'Jeweler Design', 'item-type/craftingplanjeweler', 'Gloves_Barbarian', 'Gloves', 'item-type/glovesbarbarian', 'ChampionSword', 'Champion Sword', 'item-type/championsword', 'SwirlingCrystal', 'Swirling Crystal', 'item-type/swirlingcrystal', 'Helm_DemonHunter', 'Helm', 'item-type/helmdemonhunter', 'MightyScepter', 'Mighty Scepter', 'item-type/mightyscepter', 'SpiritStone_Monk', 'Spirit Stone', 'item-type/spiritstonemonk', 'CrusaderShield', 'Crusader Shield', 'item-type/crusadershield', 'HandXbow', 'Hand Crossbow', 'item-type/handxbow', 'Helm_Wizard', 'Helm', 'item-type/helmwizard', 'GenericChestArmor', 'Chest Armor', 'item-type/genericchestarmor', 'Shoulders_WitchDoctor', 'Shoulders', 'item-type/shoulderswitchdoctor', 'Gloves_Monk', 'Gloves', 'item-type/glovesmonk', 'GreaterTalons', 'Greater Talons', 'item-type/greatertalons', 'Legs_Crusader', 'Pants', 'item-type/legscrusader', 'Legs_WitchDoctor', 'Pants', 'item-type/legswitchdoctor', 'RepeatingCrossbow', 'Repeating Crossbow', 'item-type/repeatingcrossbow', 'Gloves_DemonHunter', 'Gloves', 'item-type/glovesdemonhunter', 'Shoulders_Barbarian', 'Shoulders', 'item-type/shouldersbarbarian', 'LesserSoulShard', 'Soul Shard', 'item-type/lessersoulshard', 'CraftingPlan_MysticTransmog', 'Transmogrify Plan', 'item-type/craftingplanmystictransmog', 'HydraBow', 'Hydra Bow', 'item-type/hydrabow', 'GreaterShard', 'Greater Shard', 'item-type/greatershard', 'WristSword', 'Wrist Sword', 'item-type/wristsword', 'GraveWand', 'Grave Wand', 'item-type/gravewand', 'Helm_WitchDoctor', 'Helm', 'item-type/helmwitchdoctor', 'ChestArmor_Monk', 'Chest Armor', 'item-type/chestarmormonk', 'Legs_Monk', 'Pants', 'item-type/legsmonk', 'UpgradeableJewel', 'Gem', 'item-type/upgradeablejewel', 'Boots_Monk', 'Boots', 'item-type/bootsmonk', 'FlyingAxe', 'Flying Axe', 'item-type/flyingaxe', 'ScrollBuff', 'Scroll', 'item-type/scrollbuff', 'Caduceus', 'Caduceus', 'item-type/caduceus', 'ChestArmor_Necromancer', 'Chest Armor', 'item-type/chestarmornecromancer']\n"
     ]
    }
   ],
   "source": [
    "list_of_values = []\n",
    "\n",
    "for item in values_list:\n",
    "    list_of_values += list(item.values())\n",
    "print(list_of_values)\n"
   ]
  },
  {
   "cell_type": "code",
   "execution_count": null,
   "metadata": {},
   "outputs": [],
   "source": []
  }
 ],
 "metadata": {
  "kernelspec": {
   "display_name": "diablo3citadel-bp903dSv-py3.11",
   "language": "python",
   "name": "python3"
  },
  "language_info": {
   "codemirror_mode": {
    "name": "ipython",
    "version": 3
   },
   "file_extension": ".py",
   "mimetype": "text/x-python",
   "name": "python",
   "nbconvert_exporter": "python",
   "pygments_lexer": "ipython3",
   "version": "3.11.1"
  },
  "orig_nbformat": 4,
  "vscode": {
   "interpreter": {
    "hash": "12176d4cb30960fc05934d79b81ab7ff44ed072e791f58b1e585beb78611d51e"
   }
  }
 },
 "nbformat": 4,
 "nbformat_minor": 2
}
