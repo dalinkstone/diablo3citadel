{
 "cells": [
  {
   "cell_type": "code",
   "execution_count": 1,
   "metadata": {},
   "outputs": [
    {
     "name": "stdout",
     "output_type": "stream",
     "text": [
      "Started the main_flow\n"
     ]
    }
   ],
   "source": [
    "from diablo3flow import main_flow\n",
    "\n",
    "values_list = main_flow()"
   ]
  },
  {
   "cell_type": "code",
   "execution_count": 21,
   "metadata": {},
   "outputs": [
    {
     "name": "stdout",
     "output_type": "stream",
     "text": [
      "405\n"
     ]
    }
   ],
   "source": [
    "list_of_values = []\n",
    "\n",
    "for item in values_list:\n",
    "    list_of_values += list(item.values())\n",
    "print(len(list_of_values))\n"
   ]
  },
  {
   "cell_type": "code",
   "execution_count": null,
   "metadata": {},
   "outputs": [],
   "source": []
  }
 ],
 "metadata": {
  "kernelspec": {
   "display_name": "diablo3citadel-bp903dSv-py3.11",
   "language": "python",
   "name": "python3"
  },
  "language_info": {
   "codemirror_mode": {
    "name": "ipython",
    "version": 3
   },
   "file_extension": ".py",
   "mimetype": "text/x-python",
   "name": "python",
   "nbconvert_exporter": "python",
   "pygments_lexer": "ipython3",
   "version": "3.11.1"
  },
  "orig_nbformat": 4,
  "vscode": {
   "interpreter": {
    "hash": "12176d4cb30960fc05934d79b81ab7ff44ed072e791f58b1e585beb78611d51e"
   }
  }
 },
 "nbformat": 4,
 "nbformat_minor": 2
}
