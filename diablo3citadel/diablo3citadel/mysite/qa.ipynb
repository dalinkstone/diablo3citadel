{
 "cells": [
  {
   "cell_type": "code",
   "execution_count": 1,
   "metadata": {},
   "outputs": [],
   "source": [
    "from diablo3citadel.diablo3tasks import get_item_type_index\n",
    "\n",
    "values_list = get_item_type_index()"
   ]
  },
  {
   "cell_type": "code",
   "execution_count": null,
   "metadata": {},
   "outputs": [],
   "source": [
    "# path_values_list = 2\n",
    "\n",
    "# while path_values_list < len(values_list):\n",
    "#     item_type_index_slug_list += values_list[path_values_list]\n",
    "#     path_values_list += 3\n",
    "\n",
    "# print(item_type_index_slug_list)\n",
    "path_list = 0\n",
    "itemTypeIndexSlug_list = []\n",
    "\n",
    "itemTypeIndexSlug = [item['path'] for item in values_list]\n",
    "\n",
    "while path_list < len(itemTypeIndexSlug):\n",
    "    itemTypeIndexSlug_list += itemTypeIndexSlug[path_list].rsplit('/', 1)\n",
    "    path_list += 1\n",
    "\n",
    "remove_item_type = 0\n",
    "while remove_item_type < len(itemTypeIndexSlug_list):\n",
    "    itemTypeIndexSlug_list = itemTypeIndexSlug_list.pop(remove_item_type)\n",
    "    remove_item_type += 1\n",
    "\n",
    "print(itemTypeIndexSlug_list)"
   ]
  },
  {
   "cell_type": "code",
   "execution_count": null,
   "metadata": {},
   "outputs": [],
   "source": [
    "list_of_values = []\n",
    "\n",
    "for item in values_list:\n",
    "    list_of_values += list(item.values())\n",
    "print(len(list_of_values))\n"
   ]
  },
  {
   "cell_type": "code",
   "execution_count": null,
   "metadata": {},
   "outputs": [],
   "source": []
  }
 ],
 "metadata": {
  "kernelspec": {
   "display_name": "diablo3citadel-bp903dSv-py3.11",
   "language": "python",
   "name": "python3"
  },
  "language_info": {
   "codemirror_mode": {
    "name": "ipython",
    "version": 3
   },
   "file_extension": ".py",
   "mimetype": "text/x-python",
   "name": "python",
   "nbconvert_exporter": "python",
   "pygments_lexer": "ipython3",
   "version": "3.11.1"
  },
  "orig_nbformat": 4,
  "vscode": {
   "interpreter": {
    "hash": "12176d4cb30960fc05934d79b81ab7ff44ed072e791f58b1e585beb78611d51e"
   }
  }
 },
 "nbformat": 4,
 "nbformat_minor": 2
}
